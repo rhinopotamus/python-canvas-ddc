{
 "cells": [
  {
   "cell_type": "code",
   "execution_count": 3,
   "metadata": {},
   "outputs": [
    {
     "data": {
      "application/vnd.jupyter.widget-view+json": {
       "model_id": "9791d09f4eca4bbab010f7ca97a99742",
       "version_major": 2,
       "version_minor": 0
      },
      "text/plain": [
       "VBox(children=(IntSlider(value=17), Button(description='Operate!', style=ButtonStyle()), Output()))"
      ]
     },
     "metadata": {},
     "output_type": "display_data"
    }
   ],
   "source": [
    "import ipywidgets as widgets\n",
    "import functools\n",
    "\n",
    "output = widgets.Output()\n",
    "slider = widgets.IntSlider(value=17)\n",
    "button = widgets.Button(description='Operate!')\n",
    "#display(widgets.VBox([slider, button, output]))\n",
    "\n",
    "def operate(button, a):\n",
    "    result = a + 2\n",
    "    with output:\n",
    "        print(result) \n",
    "\n",
    "button.on_click(functools.partial(operate, a=(slider.value)))"
   ]
  }
 ],
 "metadata": {
  "kernelspec": {
   "display_name": ".venv",
   "language": "python",
   "name": "python3"
  },
  "language_info": {
   "codemirror_mode": {
    "name": "ipython",
    "version": 3
   },
   "file_extension": ".py",
   "mimetype": "text/x-python",
   "name": "python",
   "nbconvert_exporter": "python",
   "pygments_lexer": "ipython3",
   "version": "3.11.1"
  },
  "orig_nbformat": 4,
  "vscode": {
   "interpreter": {
    "hash": "d4796101f3ecfbae20d743165eab27cefb73297ace6111de3a403312ba597b50"
   }
  }
 },
 "nbformat": 4,
 "nbformat_minor": 2
}
