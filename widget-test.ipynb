{
 "cells": [
  {
   "cell_type": "code",
   "execution_count": 10,
   "metadata": {},
   "outputs": [
    {
     "data": {
      "application/vnd.jupyter.widget-view+json": {
       "model_id": "ebae9eb330f34f65bd89367727d61936",
       "version_major": 2,
       "version_minor": 0
      },
      "text/plain": [
       "Tab(children=(VBox(children=(Text(value='ted'), IntSlider(value=3), Button(description='clicky', style=ButtonS…"
      ]
     },
     "metadata": {},
     "output_type": "display_data"
    },
    {
     "data": {
      "application/vnd.jupyter.widget-view+json": {
       "model_id": "704459f571e74d9ba43b27d75abff166",
       "version_major": 2,
       "version_minor": 0
      },
      "text/plain": [
       "Output()"
      ]
     },
     "metadata": {},
     "output_type": "display_data"
    }
   ],
   "source": [
    "import ipywidgets as widgets\n",
    "import pandas as pd\n",
    "\n",
    "tododf = pd.DataFrame(data = {'name': [\"ted\", \"joshua\"], 'number': [3, 4]})\n",
    "output = widgets.Output()\n",
    "results=[]\n",
    "\n",
    "def buttonclick(text, slider):\n",
    "    results.append(text.value + str(slider.value))\n",
    "    with output:\n",
    "        print(text.value + str(slider.value))\n",
    "\n",
    "def requestbox(request):\n",
    "    text = widgets.Text(value=request[\"name\"])\n",
    "    slider = widgets.IntSlider(value=request[\"number\"])\n",
    "    button = widgets.Button(description='clicky')\n",
    "    button.on_click(lambda b: buttonclick(text, slider))\n",
    "    return widgets.VBox([text, slider, button])\n",
    "    \n",
    "\n",
    "tab = widgets.Tab(children=tododf.apply(requestbox, axis=1).tolist())\n",
    "display(tab, output)"
   ]
  }
 ],
 "metadata": {
  "kernelspec": {
   "display_name": ".venv",
   "language": "python",
   "name": "python3"
  },
  "language_info": {
   "codemirror_mode": {
    "name": "ipython",
    "version": 3
   },
   "file_extension": ".py",
   "mimetype": "text/x-python",
   "name": "python",
   "nbconvert_exporter": "python",
   "pygments_lexer": "ipython3",
   "version": "3.11.1"
  },
  "orig_nbformat": 4,
  "vscode": {
   "interpreter": {
    "hash": "d4796101f3ecfbae20d743165eab27cefb73297ace6111de3a403312ba597b50"
   }
  }
 },
 "nbformat": 4,
 "nbformat_minor": 2
}
