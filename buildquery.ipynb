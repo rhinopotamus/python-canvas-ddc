{
 "cells": [
  {
   "cell_type": "code",
   "execution_count": 38,
   "metadata": {},
   "outputs": [],
   "source": [
    "# setup cell!!\n",
    "\n",
    "from canvasapi import Canvas\n",
    "from canvasapi.exceptions import BadRequest\n",
    "from datetime import datetime, time, timedelta\n",
    "from zoneinfo import ZoneInfo\n",
    "import ipywidgets as widgets\n",
    "import os.path\n",
    "from google.auth.transport.requests import Request\n",
    "from google.oauth2.credentials import Credentials\n",
    "from google_auth_oauthlib.flow import InstalledAppFlow\n",
    "from googleapiclient.discovery import build\n",
    "from googleapiclient.errors import HttpError\n",
    "import pandas as pd\n",
    "\n",
    "# setup canvas connection\n",
    "tokenfile = open(\"canvas-token\", \"r\")\n",
    "token = tokenfile.readline()\n",
    "tokenfile.close()\n",
    "url = \"https://westminster.instructure.com/\"\n",
    "canvas = Canvas(url, token)\n",
    "\n",
    "# now i'ma hardcode the courses that people will ask for extensions in\n",
    "# this will avoid a number of (slow!) requests and filters.\n",
    "math202id = 3387585\n",
    "math202 = canvas.get_course(math202id)\n",
    "phys309id = 3388078\n",
    "phys309 = canvas.get_course(phys309id)\n",
    "coursedict = {\n",
    "    \"MATH 202\": math202,\n",
    "    \"PHYS 309\": phys309\n",
    "}\n",
    "\n",
    "# setup google connection\n",
    "# If modifying these scopes, delete the file token.json.\n",
    "scopes = ['https://www.googleapis.com/auth/spreadsheets.readonly']\n",
    "spreadsheet_id = '1mtc172TQIju8BwAiqwFS8Fwtz1I8ZN6Aw7SwfrVvdG0'\n",
    "data_range = 'B2:I' #this probably works for now\n",
    "\n",
    "creds = None\n",
    "# The file google-token.json stores the user's access and refresh tokens, and is\n",
    "# created automatically when the authorization flow completes for the first time.\n",
    "if os.path.exists('google-token.json'):\n",
    "    creds = Credentials.from_authorized_user_file('google-token.json', scopes)\n",
    "# If there are no (valid) credentials available, let the user log in.\n",
    "if not creds or not creds.valid:\n",
    "    if creds and creds.expired and creds.refresh_token:\n",
    "        creds.refresh(Request())\n",
    "    else:\n",
    "        flow = InstalledAppFlow.from_client_secrets_file(\n",
    "            'google-credentials.json', scopes)\n",
    "        creds = flow.run_local_server(port=0)\n",
    "    # Save the credentials for the next run\n",
    "    with open('google-token.json', 'w') as token:\n",
    "        token.write(creds.to_json())\n"
   ]
  },
  {
   "cell_type": "code",
   "execution_count": 8,
   "metadata": {},
   "outputs": [],
   "source": [
    "# read data from spreadsheet\n",
    "try:\n",
    "    service = build('sheets', 'v4', credentials=creds)\n",
    "\n",
    "    # Call the Sheets API\n",
    "    sheet = service.spreadsheets()\n",
    "    result = sheet.values().get(spreadsheetId=spreadsheet_id,\n",
    "                                range=data_range).execute()\n",
    "    requests = result.get('values', [])\n",
    "    requestsdf = pd.DataFrame(requests, columns = [\"name\", \"email\", \"classname\", \n",
    "        \"assignment\", \"due date\", \"need1\", \"need2\", \"status\"])\n",
    "    # pull out the ones that I need to do something with\n",
    "    # tododf = requestsdf[pd.isna(requestsdf[\"status\"])]\n",
    "    tododf = requestsdf\n",
    "\n",
    "    if not values:\n",
    "        print('No data found.')\n",
    "except HttpError as err:\n",
    "    print(err)"
   ]
  },
  {
   "cell_type": "code",
   "execution_count": 2,
   "metadata": {},
   "outputs": [],
   "source": [
    "def build_override_dict(inlist):\n",
    "    [name, email, coursename, assignment, dd, need1, need2, status] = inlist\n",
    "\n",
    "    # find the correct course and lookup the student\n",
    "    course = coursedict[coursename]\n",
    "    try: student = course.get_users(search_term = email)[0]\n",
    "    except IndexError as err:\n",
    "        print(\"haha that email's wrong\")\n",
    "        return\n",
    "    \n",
    "    # parse the date correctly as a datetime object\n",
    "    # comes in from google forms as, e.g., \"1/30\"\n",
    "    duetime = timedelta(hours=23,minutes=59)\n",
    "    duedate = datetime.strptime(dd+\"/23\", '%m/%d/%y').replace(tzinfo=ZoneInfo(\"America/Denver\"))\n",
    "    duedate = duedate + duetime\n",
    "\n",
    "    return {\n",
    "        'student_ids': [student.id],\n",
    "        'due_at': duedate, \n",
    "        'all_day': True,\n",
    "        'all_day_date':  str(duedate.date())\n",
    "    }"
   ]
  },
  {
   "cell_type": "code",
   "execution_count": null,
   "metadata": {},
   "outputs": [],
   "source": [
    "# so now what I am going to do is something like, \n",
    "# filter the requestsdf to only have the todo ones\n",
    "# then tododf.apply(build_override_dict, axis=1) \n",
    "\n",
    "# at some point we also need to do the assignment lookup\n",
    "# and finally commit all of those overrides to canvas."
   ]
  },
  {
   "cell_type": "code",
   "execution_count": 2,
   "metadata": {},
   "outputs": [
    {
     "data": {
      "application/vnd.jupyter.widget-view+json": {
       "model_id": "9b245d3d7c3a43ac986fe92085eb9c93",
       "version_major": 2,
       "version_minor": 0
      },
      "text/plain": [
       "Text(value='Hello World', description='String:', placeholder='Type something')"
      ]
     },
     "metadata": {},
     "output_type": "display_data"
    },
    {
     "data": {
      "application/vnd.jupyter.widget-view+json": {
       "model_id": "fb56c5b614d24f5fa203e24b38648d53",
       "version_major": 2,
       "version_minor": 0
      },
      "text/plain": [
       "Dropdown(description='Course:', options=(('MATH 202', Course(_requester=<canvasapi.requester.Requester object …"
      ]
     },
     "metadata": {},
     "output_type": "display_data"
    }
   ],
   "source": [
    "emailw = widgets.Text(\n",
    "    value='Hello World',\n",
    "    placeholder='Type something',\n",
    "    description='String:',\n",
    "    disabled=False\n",
    ")\n",
    "coursew = widgets.Dropdown(\n",
    "    options=[(\"MATH 202\", math202), (\"PHYS 309\", phys309)],\n",
    "    #value='MATH 202',\n",
    "    description='Course:',\n",
    "    disabled=False,\n",
    ")\n",
    "display(emailw)\n",
    "display(coursew)"
   ]
  },
  {
   "cell_type": "code",
   "execution_count": null,
   "metadata": {},
   "outputs": [],
   "source": [
    "try:\n",
    "    test_assg.create_override(\n",
    "        assignment_override={\n",
    "            'student_ids': [12261567],\n",
    "            'due_at': datetime(2023,2,1,23,59,59,tzinfo=ZoneInfo('America/Denver')),\n",
    "            'all_day': True,\n",
    "            'all_day_date':  '2023-02-01'\n",
    "        }\n",
    "    )\n",
    "except BadRequest:\n",
    "    bad_override = next((ov for ov in test_assg.get_overrides() if 12261567 in ov.student_ids), None)\n",
    "    bad_override.edit(\n",
    "        assignment_override={\n",
    "            'student_ids': [12261567],\n",
    "            'due_at': datetime(2023,2,1,23,59,59,tzinfo=ZoneInfo('America/Denver')),\n",
    "            'all_day': True,\n",
    "            'all_day_date':  '2023-02-01'\n",
    "        }\n",
    "    )\n"
   ]
  },
  {
   "cell_type": "code",
   "execution_count": null,
   "metadata": {},
   "outputs": [],
   "source": [
    "test_assg.create_override(\n",
    "    assignment_override={\n",
    "        'student_ids': [12273191],\n",
    "        'due_at': datetime(2023,2,1,23,59,59,tzinfo=ZoneInfo('America/Denver')),\n",
    "        'all_day': True,\n",
    "        'all_day_date':  '2023-02-01'\n",
    "    }\n",
    ")"
   ]
  },
  {
   "cell_type": "code",
   "execution_count": 21,
   "metadata": {},
   "outputs": [
    {
     "ename": "IndexError",
     "evalue": "list index out of range",
     "output_type": "error",
     "traceback": [
      "\u001b[1;31m---------------------------------------------------------------------------\u001b[0m",
      "\u001b[1;31mIndexError\u001b[0m                                Traceback (most recent call last)",
      "Cell \u001b[1;32mIn[21], line 1\u001b[0m\n\u001b[1;32m----> 1\u001b[0m math202\u001b[39m.\u001b[39;49mget_users(search_term\u001b[39m=\u001b[39;49m\u001b[39m\"\u001b[39;49m\u001b[39msb0513@westminstercollege.edu\u001b[39;49m\u001b[39m\"\u001b[39;49m)[\u001b[39m0\u001b[39;49m]\n",
      "File \u001b[1;32mc:\\Users\\orang\\Documents\\GitHub\\python-canvas-ddc\\.venv\\Lib\\site-packages\\canvasapi\\paginated_list.py:16\u001b[0m, in \u001b[0;36mPaginatedList.__getitem__\u001b[1;34m(self, index)\u001b[0m\n\u001b[0;32m     14\u001b[0m         \u001b[39mraise\u001b[39;00m \u001b[39mIndexError\u001b[39;00m(\u001b[39m\"\u001b[39m\u001b[39mCannot negative index a PaginatedList\u001b[39m\u001b[39m\"\u001b[39m)\n\u001b[0;32m     15\u001b[0m     \u001b[39mself\u001b[39m\u001b[39m.\u001b[39m_get_up_to_index(index)\n\u001b[1;32m---> 16\u001b[0m     \u001b[39mreturn\u001b[39;00m \u001b[39mself\u001b[39;49m\u001b[39m.\u001b[39;49m_elements[index]\n\u001b[0;32m     17\u001b[0m \u001b[39melse\u001b[39;00m:\n\u001b[0;32m     18\u001b[0m     \u001b[39mreturn\u001b[39;00m \u001b[39mself\u001b[39m\u001b[39m.\u001b[39m_Slice(\u001b[39mself\u001b[39m, index)\n",
      "\u001b[1;31mIndexError\u001b[0m: list index out of range"
     ]
    }
   ],
   "source": [
    "math202.get_users(search_term=\"sb0513@westminstercollege.edu\")[0]"
   ]
  }
 ],
 "metadata": {
  "kernelspec": {
   "display_name": ".venv",
   "language": "python",
   "name": "python3"
  },
  "language_info": {
   "codemirror_mode": {
    "name": "ipython",
    "version": 3
   },
   "file_extension": ".py",
   "mimetype": "text/x-python",
   "name": "python",
   "nbconvert_exporter": "python",
   "pygments_lexer": "ipython3",
   "version": "3.11.1"
  },
  "orig_nbformat": 4,
  "vscode": {
   "interpreter": {
    "hash": "d4796101f3ecfbae20d743165eab27cefb73297ace6111de3a403312ba597b50"
   }
  }
 },
 "nbformat": 4,
 "nbformat_minor": 2
}
