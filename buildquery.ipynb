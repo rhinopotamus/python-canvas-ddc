{
 "cells": [
  {
   "cell_type": "code",
   "execution_count": 1,
   "metadata": {},
   "outputs": [],
   "source": [
    "# setup cell!!\n",
    "\n",
    "from canvasapi import Canvas\n",
    "from canvasapi.exceptions import BadRequest\n",
    "from datetime import datetime, time, timedelta\n",
    "from zoneinfo import ZoneInfo\n",
    "import ipywidgets as widgets\n",
    "import os.path\n",
    "from google.auth.transport.requests import Request\n",
    "from google.oauth2.credentials import Credentials\n",
    "from google_auth_oauthlib.flow import InstalledAppFlow\n",
    "from googleapiclient.discovery import build\n",
    "from googleapiclient.errors import HttpError\n",
    "import pandas as pd\n",
    "from thefuzz import fuzz, process\n",
    "\n",
    "# setup canvas connection\n",
    "tokenfile = open(\"canvas-token\", \"r\")\n",
    "token = tokenfile.readline()\n",
    "tokenfile.close()\n",
    "url = \"https://westminster.instructure.com/\"\n",
    "canvas = Canvas(url, token)\n",
    "\n",
    "# now i'ma hardcode the courses that people will ask for extensions in\n",
    "# this will avoid a number of (slow!) requests and filters.\n",
    "math202id = 3387585\n",
    "math202 = canvas.get_course(math202id)\n",
    "phys309id = 3388078\n",
    "phys309 = canvas.get_course(phys309id)\n",
    "coursedict = {\n",
    "    \"MATH 202\": math202,\n",
    "    \"PHYS 309\": phys309\n",
    "}\n",
    "\n",
    "# setup google connection\n",
    "# If modifying these scopes, delete the file google-token.json.\n",
    "scopes = ['https://www.googleapis.com/auth/spreadsheets.readonly']\n",
    "spreadsheet_id = '1mtc172TQIju8BwAiqwFS8Fwtz1I8ZN6Aw7SwfrVvdG0'\n",
    "data_range = 'B2:I' #this probably works for now\n",
    "\n",
    "creds = None\n",
    "# The file google-token.json stores the user's access and refresh tokens, and is\n",
    "# created automatically when the authorization flow completes for the first time.\n",
    "# I am .gitignoring both google-token.json and google-credentials.json.\n",
    "if os.path.exists('google-token.json'):\n",
    "    creds = Credentials.from_authorized_user_file('google-token.json', scopes)\n",
    "# If there are no (valid) credentials available, let the user log in.\n",
    "if not creds or not creds.valid:\n",
    "    if creds and creds.expired and creds.refresh_token:\n",
    "        creds.refresh(Request())\n",
    "    else:\n",
    "        flow = InstalledAppFlow.from_client_secrets_file(\n",
    "            'google-credentials.json', scopes)\n",
    "        creds = flow.run_local_server(port=0)\n",
    "    # Save the credentials for the next run\n",
    "    with open('google-token.json', 'w') as token:\n",
    "        token.write(creds.to_json())\n"
   ]
  },
  {
   "cell_type": "code",
   "execution_count": 2,
   "metadata": {},
   "outputs": [],
   "source": [
    "# utility function: combine two PaginatedLists\n",
    "def combine_pl(pl1, pl2):\n",
    "    # iterate through both to build the elements lists\n",
    "    # this is because these objects are loaded lazily from the API\n",
    "    for item in pl1: pass\n",
    "    for item in pl2: pass\n",
    "    pl1._elements = pl1._elements + pl2._elements\n",
    "    return pl1"
   ]
  },
  {
   "cell_type": "code",
   "execution_count": 3,
   "metadata": {},
   "outputs": [],
   "source": [
    "# utility function: when I have an assignment list, \n",
    "# I'd like to throw away the unpublished ones.\n",
    "def remove_unpublished(pl):\n",
    "    i = 0\n",
    "    dellist = []\n",
    "    for item in pl: \n",
    "        # keep track of not-published items\n",
    "        if not item.published: dellist.append(i)\n",
    "        i+=1\n",
    "    # remove assignments that aren't published\n",
    "    for i in sorted(dellist, reverse=True):\n",
    "        del pl._elements[i]\n",
    "    return pl"
   ]
  },
  {
   "cell_type": "code",
   "execution_count": 4,
   "metadata": {},
   "outputs": [],
   "source": [
    "# I will also pre-pull the assignment lists and do a little pre-filtering.\n",
    "# in math 202 specifically, I only care about problem sets and webwork\n",
    "# so let's grab those by groups\n",
    "for group in math202.get_assignment_groups(): \n",
    "    if group.name == \"Problem Sets\":\n",
    "        math202_assgs = math202.get_assignments_for_group(group.id)\n",
    "    elif group.name == \"Webwork\":\n",
    "        math202_webwork = math202.get_assignments_for_group(group.id)\n",
    "\n",
    "math202_assgs = remove_unpublished(combine_pl(math202_assgs, math202_webwork))\n",
    "\n",
    "phys309_assgs = remove_unpublished(phys309.get_assignments())\n"
   ]
  },
  {
   "cell_type": "code",
   "execution_count": 5,
   "metadata": {},
   "outputs": [],
   "source": [
    "# read data from spreadsheet\n",
    "try:\n",
    "    service = build('sheets', 'v4', credentials=creds)\n",
    "\n",
    "    # Call the Sheets API\n",
    "    sheet = service.spreadsheets()\n",
    "    result = sheet.values().get(spreadsheetId=spreadsheet_id,\n",
    "                                range=data_range).execute()\n",
    "    requests = result.get('values', [])\n",
    "    requestsdf = pd.DataFrame(requests, columns = [\"name\", \"email\", \"classname\", \n",
    "        \"assignment\", \"due date\", \"need1\", \"need2\", \"status\"])\n",
    "    # pull out the ones that I need to do something with\n",
    "    # tododf = requestsdf[pd.isna(requestsdf[\"status\"])]\n",
    "    tododf = requestsdf\n",
    "\n",
    "    if not requests:\n",
    "        print('No data found.')\n",
    "except HttpError as err:\n",
    "    print(err)"
   ]
  },
  {
   "cell_type": "code",
   "execution_count": 6,
   "metadata": {},
   "outputs": [],
   "source": [
    "# utility function: fuzzy string match assignments\n",
    "# given a list of assignments and a string that a student wrote,\n",
    "# I'm going to create a dropdown of possibilities,\n",
    "# sorted by matching score,\n",
    "# and pre-populated with my best guess.\n",
    "def find_assignment(assglist, inputstr):\n",
    "    namesdict = {}\n",
    "    for assg in assglist:\n",
    "        namesdict[assg.name]=assg\n",
    "    # calculate and sort by matching score: \n",
    "    fuzzresults = process.extract(inputstr, namesdict.keys())\n",
    "    opts = [] \n",
    "    for result in fuzzresults:\n",
    "        opts.append( (result[0], namesdict[result[0]]) )\n",
    "        # this is now a list of tuples like widgets.Dropdown wants.\n",
    "    dropdown = widgets.Dropdown(\n",
    "        options=opts,\n",
    "        # value=None, -- I'm going to prepopulate with my best guess.\n",
    "        description=\"Probably: \",\n",
    "        disabled=False,\n",
    "    )\n",
    "    return dropdown"
   ]
  },
  {
   "cell_type": "code",
   "execution_count": 11,
   "metadata": {},
   "outputs": [
    {
     "data": {
      "application/vnd.jupyter.widget-view+json": {
       "model_id": "a8583bff827b4e369a100c55039ebf3f",
       "version_major": 2,
       "version_minor": 0
      },
      "text/plain": [
       "Tab(children=(VBox(children=(Label(value='Ted Scott'), HBox(children=(Label(value='Webwork 5.1-5.2'), Dropdown…"
      ]
     },
     "metadata": {},
     "output_type": "display_data"
    }
   ],
   "source": [
    "def requestbox(request): \n",
    "    return widgets.VBox([\n",
    "        widgets.Label(value=request[\"name\"]),\n",
    "        widgets.HBox([widgets.Label(value=request[\"assignment\"]), \n",
    "                      find_assignment(math202_assgs, request[\"assignment\"])]),\n",
    "        widgets.Label(value=request[\"due date\"]), \n",
    "        widgets.Textarea(value=request[\"need1\"] + \" | \" + request[\"need2\"]),\n",
    "        widgets.Checkbox(value = False, description = \"Looks good!\")\n",
    "        ])\n",
    "tab = widgets.Tab(children = tododf.apply(requestbox, axis=1).tolist())\n",
    "display(tab)"
   ]
  },
  {
   "cell_type": "code",
   "execution_count": 2,
   "metadata": {},
   "outputs": [],
   "source": [
    "def build_override_dict(inlist):\n",
    "    [name, email, coursename, assignment, dd, need1, need2, status] = inlist\n",
    "\n",
    "    # find the correct course and lookup the student\n",
    "    course = coursedict[coursename]\n",
    "    try: student = course.get_users(search_term = email)[0]\n",
    "    except IndexError as err:\n",
    "        print(\"haha that email's wrong\")\n",
    "        return\n",
    "    \n",
    "    # parse the date correctly as a datetime object\n",
    "    # comes in from google forms as, e.g., \"1/30\"\n",
    "    duetime = timedelta(hours=23,minutes=59)\n",
    "    duedate = datetime.strptime(dd+\"/23\", '%m/%d/%y').replace(tzinfo=ZoneInfo(\"America/Denver\"))\n",
    "    duedate = duedate + duetime\n",
    "\n",
    "    return {\n",
    "        'student_ids': [student.id],\n",
    "        'due_at': duedate, \n",
    "        'all_day': True,\n",
    "        'all_day_date':  str(duedate.date())\n",
    "    }\n",
    "\n",
    "# a thought: should this actually be able to deal with multiple students requesting the same new due date for the same assignment?\n",
    "# that may be more headache than it is actually worth.\n",
    "# maybe what should happen is, I build individual override dicts,\n",
    "# and then before I fire off all the overrides,\n",
    "# a helper function checks *all* the override dicts I have built,\n",
    "# together with all existing overrides,\n",
    "# and collapses any that it can."
   ]
  },
  {
   "cell_type": "code",
   "execution_count": null,
   "metadata": {},
   "outputs": [],
   "source": [
    "# so now what I am going to do is something like, \n",
    "# filter the requestsdf to only have the todo ones\n",
    "# then tododf.apply(build_override_dict, axis=1) \n",
    "\n",
    "# at some point we also need to do the assignment lookup\n",
    "# and finally commit all of those overrides to canvas."
   ]
  },
  {
   "cell_type": "code",
   "execution_count": null,
   "metadata": {},
   "outputs": [],
   "source": [
    "# hey so this is 74% of the body of the write override function\n",
    "# i wanna write this as assg.write_override()\n",
    "def write_override(self, ovdict):\n",
    "    overrides = self.get_overrides()\n",
    "    for override in overrides:\n",
    "        # if there is some kind of intersection between the student ids in the existing overrides\n",
    "        # and the student id in the ovdict I am throwing you, \n",
    "        # then we should edit the existing override to remove the student\n",
    "        # and create a new override for the student\n",
    "\n",
    "    try:\n",
    "        self.create_override(assignment_override = dict)\n",
    "    except BadRequest: # I need to be a little more careful here.\n",
    "        # It's possible that the student is *one* of several students in an override.\n",
    "        # If so, I need to remove them from the old override\n",
    "        # and create them a new override\n",
    "        # or else add them to an existing override\n",
    "        # (otherwise it might fuck up other people's overrides!)\n",
    "        bad_override = next((ov for ov in test_assg.get_overrides() if 12261567 in ov.student_ids), None)\n",
    "        bad_override.edit(\n",
    "            assignment_override={\n",
    "                'student_ids': [12261567],\n",
    "                'due_at': datetime(2023,2,1,23,59,59,tzinfo=ZoneInfo('America/Denver')),\n",
    "                'all_day': True,\n",
    "                'all_day_date':  '2023-02-01'\n",
    "            }\n",
    "        )\n"
   ]
  },
  {
   "cell_type": "code",
   "execution_count": null,
   "metadata": {},
   "outputs": [],
   "source": [
    "test_assg.create_override(\n",
    "    assignment_override={\n",
    "        'student_ids': [12273191],\n",
    "        'due_at': datetime(2023,2,1,23,59,59,tzinfo=ZoneInfo('America/Denver')),\n",
    "        'all_day': True,\n",
    "        'all_day_date':  '2023-02-01'\n",
    "    }\n",
    ")"
   ]
  }
 ],
 "metadata": {
  "kernelspec": {
   "display_name": ".venv",
   "language": "python",
   "name": "python3"
  },
  "language_info": {
   "codemirror_mode": {
    "name": "ipython",
    "version": 3
   },
   "file_extension": ".py",
   "mimetype": "text/x-python",
   "name": "python",
   "nbconvert_exporter": "python",
   "pygments_lexer": "ipython3",
   "version": "3.11.1"
  },
  "orig_nbformat": 4,
  "vscode": {
   "interpreter": {
    "hash": "d4796101f3ecfbae20d743165eab27cefb73297ace6111de3a403312ba597b50"
   }
  }
 },
 "nbformat": 4,
 "nbformat_minor": 2
}
